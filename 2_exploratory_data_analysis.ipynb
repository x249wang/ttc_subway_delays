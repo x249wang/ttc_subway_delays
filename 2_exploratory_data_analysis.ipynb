{
 "cells": [
  {
   "cell_type": "code",
   "execution_count": null,
   "metadata": {},
   "outputs": [],
   "source": [
    "# Eliminate outlier days? \n",
    "# Which day of the week has most number of delays and longest duration of delays?\n",
    "# What are the most common reasons for delays?\n",
    "# Number of delays and duration of delays over the course of a day\n",
    "# Which stations are the hot spots?\n",
    "# Seasonality in number and duration of delays - over a day, week, year\n",
    "# Simulation? model movement of a train over a line, with delay simulated by some wait time distribution?"
   ]
  },
  {
   "cell_type": "markdown",
   "metadata": {},
   "source": [
    "# TTC Subway Delay Data Analysis"
   ]
  },
  {
   "cell_type": "code",
   "execution_count": 1,
   "metadata": {},
   "outputs": [],
   "source": [
    "import numpy as np\n",
    "import pandas as pd\n",
    "import matplotlib.pyplot as plt\n",
    "import matplotlib.lines as mlines\n",
    "from datetime import datetime\n",
    "import seaborn as sns\n",
    "import re"
   ]
  },
  {
   "cell_type": "markdown",
   "metadata": {},
   "source": [
    "## Load Data"
   ]
  },
  {
   "cell_type": "code",
   "execution_count": 7,
   "metadata": {
    "scrolled": true
   },
   "outputs": [
    {
     "name": "stdout",
     "output_type": "stream",
     "text": [
      "(441268, 11)\n"
     ]
    },
    {
     "data": {
      "text/html": [
       "<div>\n",
       "<style scoped>\n",
       "    .dataframe tbody tr th:only-of-type {\n",
       "        vertical-align: middle;\n",
       "    }\n",
       "\n",
       "    .dataframe tbody tr th {\n",
       "        vertical-align: top;\n",
       "    }\n",
       "\n",
       "    .dataframe thead th {\n",
       "        text-align: right;\n",
       "    }\n",
       "</style>\n",
       "<table border=\"1\" class=\"dataframe\">\n",
       "  <thead>\n",
       "    <tr style=\"text-align: right;\">\n",
       "      <th></th>\n",
       "      <th>date</th>\n",
       "      <th>time</th>\n",
       "      <th>weekday</th>\n",
       "      <th>hour</th>\n",
       "      <th>line_cleaned</th>\n",
       "      <th>station_cleaned</th>\n",
       "      <th>code</th>\n",
       "      <th>desc</th>\n",
       "      <th>min_delay</th>\n",
       "      <th>indicator_ns</th>\n",
       "      <th>indicator_station</th>\n",
       "    </tr>\n",
       "  </thead>\n",
       "  <tbody>\n",
       "    <tr>\n",
       "      <th>0</th>\n",
       "      <td>2014-01-02</td>\n",
       "      <td>11:30</td>\n",
       "      <td>Thursday</td>\n",
       "      <td>11</td>\n",
       "      <td>YU</td>\n",
       "      <td>VAUGHAN MC STATION</td>\n",
       "      <td>MUGD</td>\n",
       "      <td>Miscellaneous General Delays</td>\n",
       "      <td>0.013158</td>\n",
       "      <td>1</td>\n",
       "      <td>1</td>\n",
       "    </tr>\n",
       "    <tr>\n",
       "      <th>1</th>\n",
       "      <td>2014-01-02</td>\n",
       "      <td>11:30</td>\n",
       "      <td>Thursday</td>\n",
       "      <td>11</td>\n",
       "      <td>YU</td>\n",
       "      <td>HIGHWAY 407 STATION</td>\n",
       "      <td>MUGD</td>\n",
       "      <td>Miscellaneous General Delays</td>\n",
       "      <td>0.013158</td>\n",
       "      <td>0</td>\n",
       "      <td>1</td>\n",
       "    </tr>\n",
       "    <tr>\n",
       "      <th>2</th>\n",
       "      <td>2014-01-02</td>\n",
       "      <td>11:30</td>\n",
       "      <td>Thursday</td>\n",
       "      <td>11</td>\n",
       "      <td>YU</td>\n",
       "      <td>PIONEER VILLAGE STATION</td>\n",
       "      <td>MUGD</td>\n",
       "      <td>Miscellaneous General Delays</td>\n",
       "      <td>0.013158</td>\n",
       "      <td>0</td>\n",
       "      <td>1</td>\n",
       "    </tr>\n",
       "    <tr>\n",
       "      <th>3</th>\n",
       "      <td>2014-01-02</td>\n",
       "      <td>11:30</td>\n",
       "      <td>Thursday</td>\n",
       "      <td>11</td>\n",
       "      <td>YU</td>\n",
       "      <td>YORK UNIVERSITY STATION</td>\n",
       "      <td>MUGD</td>\n",
       "      <td>Miscellaneous General Delays</td>\n",
       "      <td>0.013158</td>\n",
       "      <td>0</td>\n",
       "      <td>1</td>\n",
       "    </tr>\n",
       "    <tr>\n",
       "      <th>4</th>\n",
       "      <td>2014-01-02</td>\n",
       "      <td>11:30</td>\n",
       "      <td>Thursday</td>\n",
       "      <td>11</td>\n",
       "      <td>YU</td>\n",
       "      <td>FINCH WEST STATION</td>\n",
       "      <td>MUGD</td>\n",
       "      <td>Miscellaneous General Delays</td>\n",
       "      <td>0.013158</td>\n",
       "      <td>0</td>\n",
       "      <td>1</td>\n",
       "    </tr>\n",
       "  </tbody>\n",
       "</table>\n",
       "</div>"
      ],
      "text/plain": [
       "        date   time   weekday  hour line_cleaned          station_cleaned  \\\n",
       "0 2014-01-02  11:30  Thursday    11           YU       VAUGHAN MC STATION   \n",
       "1 2014-01-02  11:30  Thursday    11           YU      HIGHWAY 407 STATION   \n",
       "2 2014-01-02  11:30  Thursday    11           YU  PIONEER VILLAGE STATION   \n",
       "3 2014-01-02  11:30  Thursday    11           YU  YORK UNIVERSITY STATION   \n",
       "4 2014-01-02  11:30  Thursday    11           YU       FINCH WEST STATION   \n",
       "\n",
       "   code                          desc  min_delay  indicator_ns  \\\n",
       "0  MUGD  Miscellaneous General Delays   0.013158             1   \n",
       "1  MUGD  Miscellaneous General Delays   0.013158             0   \n",
       "2  MUGD  Miscellaneous General Delays   0.013158             0   \n",
       "3  MUGD  Miscellaneous General Delays   0.013158             0   \n",
       "4  MUGD  Miscellaneous General Delays   0.013158             0   \n",
       "\n",
       "   indicator_station  \n",
       "0                  1  \n",
       "1                  1  \n",
       "2                  1  \n",
       "3                  1  \n",
       "4                  1  "
      ]
     },
     "execution_count": 7,
     "metadata": {},
     "output_type": "execute_result"
    }
   ],
   "source": [
    "df = pd.read_csv('processed_data/ttc_subway_delay_data.csv', parse_dates = [0])\n",
    "\n",
    "print(df.shape)\n",
    "df.head()"
   ]
  },
  {
   "cell_type": "code",
   "execution_count": 10,
   "metadata": {
    "scrolled": true
   },
   "outputs": [
    {
     "data": {
      "text/html": [
       "<div>\n",
       "<style scoped>\n",
       "    .dataframe tbody tr th:only-of-type {\n",
       "        vertical-align: middle;\n",
       "    }\n",
       "\n",
       "    .dataframe tbody tr th {\n",
       "        vertical-align: top;\n",
       "    }\n",
       "\n",
       "    .dataframe thead th {\n",
       "        text-align: right;\n",
       "    }\n",
       "</style>\n",
       "<table border=\"1\" class=\"dataframe\">\n",
       "  <thead>\n",
       "    <tr style=\"text-align: right;\">\n",
       "      <th></th>\n",
       "      <th>date</th>\n",
       "      <th>weekday</th>\n",
       "      <th>hour</th>\n",
       "      <th>n_delays</th>\n",
       "      <th>delay_duration</th>\n",
       "    </tr>\n",
       "  </thead>\n",
       "  <tbody>\n",
       "    <tr>\n",
       "      <th>0</th>\n",
       "      <td>2014-01-01</td>\n",
       "      <td>Wednesday</td>\n",
       "      <td>0</td>\n",
       "      <td>1.0</td>\n",
       "      <td>55.0</td>\n",
       "    </tr>\n",
       "    <tr>\n",
       "      <th>1</th>\n",
       "      <td>2014-01-01</td>\n",
       "      <td>Wednesday</td>\n",
       "      <td>2</td>\n",
       "      <td>2.0</td>\n",
       "      <td>3.5</td>\n",
       "    </tr>\n",
       "    <tr>\n",
       "      <th>2</th>\n",
       "      <td>2014-01-01</td>\n",
       "      <td>Wednesday</td>\n",
       "      <td>3</td>\n",
       "      <td>3.0</td>\n",
       "      <td>8.5</td>\n",
       "    </tr>\n",
       "    <tr>\n",
       "      <th>3</th>\n",
       "      <td>2014-01-01</td>\n",
       "      <td>Wednesday</td>\n",
       "      <td>7</td>\n",
       "      <td>6.0</td>\n",
       "      <td>3.0</td>\n",
       "    </tr>\n",
       "    <tr>\n",
       "      <th>4</th>\n",
       "      <td>2014-01-01</td>\n",
       "      <td>Wednesday</td>\n",
       "      <td>8</td>\n",
       "      <td>7.0</td>\n",
       "      <td>34.0</td>\n",
       "    </tr>\n",
       "  </tbody>\n",
       "</table>\n",
       "</div>"
      ],
      "text/plain": [
       "        date    weekday  hour  n_delays  delay_duration\n",
       "0 2014-01-01  Wednesday     0       1.0            55.0\n",
       "1 2014-01-01  Wednesday     2       2.0             3.5\n",
       "2 2014-01-01  Wednesday     3       3.0             8.5\n",
       "3 2014-01-01  Wednesday     7       6.0             3.0\n",
       "4 2014-01-01  Wednesday     8       7.0            34.0"
      ]
     },
     "execution_count": 10,
     "metadata": {},
     "output_type": "execute_result"
    }
   ],
   "source": [
    "def get_n_dur(data):\n",
    "    return pd.Series({'n_delays': data.indicator_ns.sum(), 'delay_duration': data.min_delay.sum()})\n",
    "    \n",
    "summ = df.groupby(['date', 'weekday', 'hour']).apply(get_n_dur).reset_index(drop = False)\n",
    "summ.head()"
   ]
  },
  {
   "cell_type": "markdown",
   "metadata": {},
   "source": [
    "# Any Weather Effects?\n",
    "\n",
    "First, I wanted to investigate whether there are any weather effects"
   ]
  },
  {
   "cell_type": "code",
   "execution_count": null,
   "metadata": {
    "scrolled": true
   },
   "outputs": [],
   "source": [
    "weather = pd.read_csv('weather_data/daily_weather.csv', parse_dates = [4])\n",
    "\n",
    "df_weather = (df.merge(weather[['Date/Time', 'Total Rain (mm)', 'Total Snow (cm)']], \n",
    "                       left_on = 'date', \n",
    "                       right_on = 'Date/Time', \n",
    "                       how = 'left')\n",
    "                .rename(columns = {'Total Rain (mm)': 'rain_mm', 'Total Snow (cm)': 'snow_cm'})\n",
    "                .drop(columns = 'Date/Time'))"
   ]
  },
  {
   "cell_type": "code",
   "execution_count": null,
   "metadata": {
    "scrolled": true
   },
   "outputs": [],
   "source": [
    "def get_summ_daily_weather(x):\n",
    "    return pd.Series({'snow': x.snow_cm.mean(), \n",
    "                      'rain': x.rain_mm.mean(), \n",
    "                      'duration': x.min_delay.sum(), \n",
    "                      'n': x.indicator.sum()})\n",
    "\n",
    "summ_weather = df_weather.groupby('date').apply(get_summ_daily_weather).sort_values(by = 'n', ascending = False)"
   ]
  },
  {
   "cell_type": "code",
   "execution_count": null,
   "metadata": {},
   "outputs": [],
   "source": [
    "plt.scatter(summ_weather.n, summ_weather.snow)\n",
    "# Days with a lot of snow or snow are not necessarily days with a lot of delays\n",
    "# Can either adjust by removing some extreme weather days, or leave them in since there would always be days with bad weathers\n",
    "# Adjusting for these would open up the questions of what other external/one-time causes to treat as outlier days"
   ]
  },
  {
   "cell_type": "code",
   "execution_count": null,
   "metadata": {},
   "outputs": [],
   "source": [
    "# TO-DO: COMBINE THE PLOTS SIDE BY SIDE\n",
    "plt.scatter(summ_weather.duration, summ_weather.snow)"
   ]
  },
  {
   "cell_type": "code",
   "execution_count": null,
   "metadata": {},
   "outputs": [],
   "source": [
    "plt.scatter(summ_weather.n, summ_weather.rain)\n",
    "# Snow/rain is not that correlated with amount of delay (perhaps because the subway is underground?)"
   ]
  },
  {
   "cell_type": "code",
   "execution_count": null,
   "metadata": {},
   "outputs": [],
   "source": [
    "plt.scatter(summ_weather.duration, summ_weather.rain)"
   ]
  },
  {
   "cell_type": "markdown",
   "metadata": {},
   "source": [
    "# Cause for Delays"
   ]
  },
  {
   "cell_type": "code",
   "execution_count": null,
   "metadata": {
    "scrolled": true
   },
   "outputs": [],
   "source": [
    "# Overall proportion of delay types each year, by frequency\n",
    "delay_type_props = df.groupby('year').apply(lambda x: x.groupby('desc')['indicator'].sum() / x['indicator'].sum()).reset_index(drop = False)\n",
    "delay_type_props.rename(columns = {'desc': 'delay_reason', 'indicator': 'prop'}, inplace = True)"
   ]
  },
  {
   "cell_type": "code",
   "execution_count": null,
   "metadata": {},
   "outputs": [],
   "source": [
    "top_delays = delay_type_props.groupby('delay_reason')['prop'].sum().sort_values(ascending = False).index.values[:10]\n",
    "\n",
    "plt.figure(figsize = (8, 5))\n",
    "for delay in top_delays:\n",
    "    plt.plot(delay_type_props[delay_type_props.delay_reason == delay].year, \n",
    "             delay_type_props[delay_type_props.delay_reason == delay].prop,\n",
    "             label = delay)\n",
    "plt.legend(bbox_to_anchor = (1, 0.8), loc=\"upper left\")\n",
    "# Still more ill passengers and disorderly patrons\n",
    "# It seems the delays that occur frequent and delays that take a long time to resolve aren't the same\n",
    "# Fires are resolved faster\n",
    "# Disorderly patrons and PAAs seem to be taking longer"
   ]
  },
  {
   "cell_type": "code",
   "execution_count": null,
   "metadata": {
    "scrolled": true
   },
   "outputs": [],
   "source": [
    "# Overall proportion of delay types in each year, by duration\n",
    "delay_type_props2 = df.groupby('year').apply(lambda x: x.groupby('desc')['min_delay'].sum() / x['min_delay'].sum()).reset_index(drop = False)\n",
    "delay_type_props2.rename(columns = {'desc': 'delay_reason', 'min_delay': 'prop'}, inplace = True)"
   ]
  },
  {
   "cell_type": "code",
   "execution_count": null,
   "metadata": {},
   "outputs": [],
   "source": [
    "top_delays2 = delay_type_props2.groupby('delay_reason')['prop'].sum().sort_values(ascending = False).index.values[:10]\n",
    "\n",
    "plt.figure(figsize = (8, 5))\n",
    "for delay in top_delays2:\n",
    "    plt.plot(delay_type_props2[delay_type_props2.delay_reason == delay].year, \n",
    "             delay_type_props2[delay_type_props2.delay_reason == delay].prop,\n",
    "             label = delay)\n",
    "plt.legend(bbox_to_anchor = (1, 0.8), loc=\"upper left\")\n",
    "# Still more ill passengers and disorderly patrons\n",
    "# It seems the delays that occur frequent and delays that take a long time to resolve aren't the same\n",
    "# Fires are resolved faster\n",
    "# Disorderly patrons and PAAs seem to be taking longer"
   ]
  },
  {
   "cell_type": "code",
   "execution_count": null,
   "metadata": {
    "scrolled": true
   },
   "outputs": [],
   "source": [
    "# Get count, mean and sd of delays by reason\n",
    "def get_summ_n_mean_sd_sum(x):\n",
    "    return pd.Series({'n': x.indicator.sum(),\n",
    "                      'delay_mean': x.min_delay.mean(), \n",
    "                      'delay_sd': x.min_delay.std(), \n",
    "                      'delay_sum': x.min_delay.sum()})\n",
    "\n",
    "summ_type = df.groupby('desc').apply(get_summ_n_mean_sd_sum).reset_index(drop = False)"
   ]
  },
  {
   "cell_type": "code",
   "execution_count": null,
   "metadata": {
    "scrolled": true
   },
   "outputs": [],
   "source": [
    "summ_type.sort_values(by = 'delay_sum', ascending = False)\n",
    "# Some of the top factors leading to delays are outside TTC control\n",
    "# except door problems seemed to be quite frequently occurring"
   ]
  },
  {
   "cell_type": "code",
   "execution_count": null,
   "metadata": {
    "scrolled": true
   },
   "outputs": [],
   "source": [
    "summ_type.sort_values(by = 'delay_mean', ascending = False)\n",
    "# Delays that take a long time to resolve make sense - equipment problems, train hitting a person, fire\n",
    "# Scheduled track maintenance and misc general delays - obvious data issues since they should not be 0min"
   ]
  },
  {
   "cell_type": "code",
   "execution_count": null,
   "metadata": {},
   "outputs": [],
   "source": [
    "summ_type[summ_type.desc.isin(top_delays2)]\n",
    "# Most time-consuming delays (by sum) are usually short delays but just very frequent\n",
    "# The only exception is when train hits a person..."
   ]
  },
  {
   "cell_type": "markdown",
   "metadata": {},
   "source": [
    "# By Day"
   ]
  },
  {
   "cell_type": "code",
   "execution_count": null,
   "metadata": {},
   "outputs": [],
   "source": [
    "def get_summ_n_mean_sd_total(x):\n",
    "    return pd.Series({'n': x.n.sum(), \n",
    "                      'delay_mean': x.duration.mean(), \n",
    "                      'delay_sd': x.duration.std(), \n",
    "                      'duration': x.duration.sum()})\n",
    "\n",
    "summ_daily = summ.groupby('date').sum().groupby(pd.Grouper(freq = 'M')).apply(get_summ_n_mean_sd_total)"
   ]
  },
  {
   "cell_type": "code",
   "execution_count": null,
   "metadata": {
    "scrolled": false
   },
   "outputs": [],
   "source": [
    "plt.plot(summ_daily.index, summ_daily.delay_mean)\n",
    "plt.fill_between(summ_daily.index, \n",
    "                 summ_daily.delay_mean - summ_daily.delay_sd, \n",
    "                 summ_daily.delay_mean + summ_daily.delay_sd, \n",
    "                 color = 'gray', alpha = 0.2)\n",
    "\n",
    "# A bit of seasonality in the data (possibly correlated with ridership count)\n",
    "# High at beginning of the year (Feb), spring (May, June), lowest in August (vacation so low ridership?), then back to previous level before leveling off\n",
    "# Appears to have picked up since 2018\n",
    "# which coincides with the opening of the Toronto-York subway extension that began service on Dec 17, 2017"
   ]
  },
  {
   "cell_type": "markdown",
   "metadata": {},
   "source": [
    "## Year-over-Year"
   ]
  },
  {
   "cell_type": "code",
   "execution_count": null,
   "metadata": {
    "scrolled": true
   },
   "outputs": [],
   "source": [
    "daily_delay = summ.groupby('date').sum().drop(columns = ['hour']).reset_index(drop = False)\n",
    "daily_delay.loc[:, 'year'] = list(map(lambda x: x.year, daily_delay.date))"
   ]
  },
  {
   "cell_type": "code",
   "execution_count": null,
   "metadata": {
    "scrolled": true
   },
   "outputs": [],
   "source": [
    "def subtract_years(dt, years = 1):\n",
    "    try:\n",
    "        dt = dt.replace(year = dt.year - years)\n",
    "    except ValueError:\n",
    "        dt = dt.replace(year = dt.year - years, day = dt.day - 1)\n",
    "    return dt\n",
    "\n",
    "# Look at year-over-year change\n",
    "daily_delay.loc[:, 'date_py'] = list(map(subtract_years, daily_delay.date))\n",
    "\n",
    "daily_delay = daily_delay[['date', 'date_py', 'n', 'duration']].merge(daily_delay[['date', 'n', 'duration']], \n",
    "                                                                      left_on = 'date_py', \n",
    "                                                                      right_on = 'date', \n",
    "                                                                      how = 'left', \n",
    "                                                                      suffixes = ['_cy', '_ly'])"
   ]
  },
  {
   "cell_type": "code",
   "execution_count": null,
   "metadata": {},
   "outputs": [],
   "source": [
    "daily_delay.loc[:, 'yoy_chg_duration'] = daily_delay.duration_cy / daily_delay.duration_ly - 1\n",
    "daily_delay.loc[:, 'yoy_chg_n'] = daily_delay.n_cy / daily_delay.n_ly - 1"
   ]
  },
  {
   "cell_type": "code",
   "execution_count": null,
   "metadata": {
    "scrolled": true
   },
   "outputs": [],
   "source": [
    "daily_delay.set_index('date_cy').groupby(pd.Grouper(freq = 'M'))['yoy_chg_duration'].mean().plot()\n",
    "# Mostly yoy increase, although no linear trend observed"
   ]
  },
  {
   "cell_type": "code",
   "execution_count": null,
   "metadata": {},
   "outputs": [],
   "source": [
    "daily_delay.set_index('date_cy').groupby(pd.Grouper(freq = 'M'))['yoy_chg_n'].mean().plot()\n",
    "# The drastic spike in 2018 as new stations were added seems to have stabilized in 2019\n",
    "# Large drop in 2019 could be because of high prior year base"
   ]
  },
  {
   "cell_type": "markdown",
   "metadata": {},
   "source": [
    "# By Hour"
   ]
  },
  {
   "cell_type": "code",
   "execution_count": null,
   "metadata": {
    "scrolled": true
   },
   "outputs": [],
   "source": [
    "summ_hourly = summ[summ.date > '2017-12-31'].groupby('hour').apply(get_summ_n_mean_sd_total)"
   ]
  },
  {
   "cell_type": "code",
   "execution_count": null,
   "metadata": {},
   "outputs": [],
   "source": [
    "fig, ax1 = plt.subplots()\n",
    "\n",
    "color = 'tab:red'\n",
    "ax1.set_xlabel('hour')\n",
    "ax1.set_ylabel('# of delays')\n",
    "ax1.plot(summ_hourly.index, summ_hourly.n, color = color)\n",
    "ax1.tick_params(axis = 'y', labelcolor = color)\n",
    "\n",
    "ax2 = ax1.twinx()\n",
    "\n",
    "color = 'tab:blue'\n",
    "ax2.set_ylabel('delay duration (minutes)')  # we already handled the x-label with ax1\n",
    "ax2.plot(summ_hourly.index, summ_hourly.duration, color = color)\n",
    "ax2.tick_params(axis = 'y', labelcolor = color)\n",
    "\n",
    "fig.tight_layout()\n",
    "\n",
    "# Similar pattern by count and total minutes of delay over course of a day\n",
    "# Peaks when people are going to/from work, as expected\n",
    "# Seems like delays in late afternoon/early evening take longer to resolve"
   ]
  },
  {
   "cell_type": "code",
   "execution_count": null,
   "metadata": {
    "scrolled": true
   },
   "outputs": [],
   "source": [
    "# Are there differences depending on which day of the week it is?\n",
    "summ_hourly_weekly = (summ[summ.date > '2017-12-31'].groupby(['weekday', 'hour'])\n",
    "                                                    .apply(get_summ_n_mean_sd_total)\n",
    "                                                    .reset_index(drop = False))\n",
    "\n",
    "summ_hourly_weekly.weekday = pd.Categorical(summ_hourly_weekly.weekday, \n",
    "                                            categories = ['Monday', 'Tuesday', 'Wednesday', \n",
    "                                                          'Thursday', 'Friday', \n",
    "                                                          'Saturday', 'Sunday'], \n",
    "                                            ordered = True) # Make sure facet grid is in the right chronological order below"
   ]
  },
  {
   "cell_type": "code",
   "execution_count": null,
   "metadata": {
    "scrolled": false
   },
   "outputs": [],
   "source": [
    "g = sns.FacetGrid(summ_hourly_weekly, col = 'weekday', col_wrap = 4)\n",
    "g.map(plt.plot, \"hour\", \"duration\")\n",
    "# Monday morning looks to be the worst of the whole week\n",
    "# Friday afternoon looks to be the worst of the whole week\n",
    "# The dip after midnight could be because the subway does not operate between 1:30am and 6am (currently) "
   ]
  },
  {
   "cell_type": "markdown",
   "metadata": {},
   "source": [
    "# By Day of Week"
   ]
  },
  {
   "cell_type": "code",
   "execution_count": null,
   "metadata": {
    "scrolled": true
   },
   "outputs": [],
   "source": [
    "def get_n_total(x):\n",
    "    return pd.Series({'n': x.n.sum(), 'duration': x.duration.sum()})\n",
    "    \n",
    "summ_weekly = (summ[summ.date > '2017-12-31'].groupby(['weekday'])\n",
    "                                             .apply(get_n_total))"
   ]
  },
  {
   "cell_type": "code",
   "execution_count": null,
   "metadata": {},
   "outputs": [],
   "source": [
    "days_of_week = ['Monday', 'Tuesday', 'Wednesday', 'Thursday', 'Friday', 'Saturday', 'Sunday']\n",
    "\n",
    "plt.bar(range(7), \n",
    "        summ_weekly.n.reindex(index = days_of_week),\n",
    "        tick_label = days_of_week)\n",
    "# As expected, there is a significant drop in delays on Saturday and Sundays\n",
    "# The work week is fairly stable"
   ]
  },
  {
   "cell_type": "code",
   "execution_count": null,
   "metadata": {},
   "outputs": [],
   "source": [
    "plt.bar(range(7), \n",
    "        summ_weekly.duration.reindex(index = days_of_week),\n",
    "        tick_label = days_of_week)\n",
    "# In terms of length of delays, Tuesday and Friday stick out more than the rest of the week\n",
    "# Interesting that Wednesday is lowest..."
   ]
  },
  {
   "cell_type": "markdown",
   "metadata": {},
   "source": [
    "# By Month"
   ]
  },
  {
   "cell_type": "code",
   "execution_count": null,
   "metadata": {
    "scrolled": true
   },
   "outputs": [],
   "source": [
    "# Which month is the worst for delays? \n",
    "# Maybe September (back from vacation) and Jan (back from vacation, bad weather)\n",
    "\n",
    "summ_monthly = (summ[summ.date > '2017-12-31'].set_index('date')\n",
    "                                              .groupby(pd.Grouper(freq = 'M'))\n",
    "                                              .apply(get_n_total)\n",
    "                                              .assign(month = lambda x: x.index.month)\n",
    "                                              .groupby('month')\n",
    "                                              .apply(get_n_total))"
   ]
  },
  {
   "cell_type": "code",
   "execution_count": null,
   "metadata": {},
   "outputs": [],
   "source": [
    "fig, ax1 = plt.subplots()\n",
    "\n",
    "color = 'tab:red'\n",
    "ax1.set_xlabel('month')\n",
    "ax1.set_ylabel('# of delays')\n",
    "ax1.plot(summ_monthly.index, summ_monthly.n, color = color)\n",
    "ax1.tick_params(axis = 'y', labelcolor = color)\n",
    "\n",
    "ax2 = ax1.twinx()\n",
    "\n",
    "color = 'tab:blue'\n",
    "ax2.set_ylabel('delay duration (minutes)')  # we already handled the x-label with ax1\n",
    "ax2.plot(summ_monthly.index, summ_monthly.duration, color = color)\n",
    "ax2.tick_params(axis = 'y', labelcolor = color)\n",
    "\n",
    "fig.tight_layout()\n",
    "\n",
    "# More delays in Jan and Sept, but also interestingly in summer (albeit shorter ones on average)"
   ]
  },
  {
   "cell_type": "markdown",
   "metadata": {},
   "source": [
    "# Stations"
   ]
  },
  {
   "cell_type": "code",
   "execution_count": null,
   "metadata": {
    "scrolled": true
   },
   "outputs": [],
   "source": [
    "# Which stations have the highest number of delays?\n",
    "summ_station = (df[df.year > 2017].groupby(['station_fixed'])\n",
    "                                  .apply(get_summ_n_mean_sd_sum)\n",
    "                                  .reset_index(drop = False))"
   ]
  },
  {
   "cell_type": "code",
   "execution_count": null,
   "metadata": {
    "scrolled": true
   },
   "outputs": [],
   "source": [
    "summ_station.sort_values(by = 'n', ascending = False)[:10]"
   ]
  },
  {
   "cell_type": "code",
   "execution_count": null,
   "metadata": {
    "scrolled": true
   },
   "outputs": [],
   "source": [
    "summ_station.sort_values(by = 'delay_sum', ascending = False)[:10]\n",
    "# Some stations are problematic by both measures"
   ]
  },
  {
   "cell_type": "code",
   "execution_count": null,
   "metadata": {},
   "outputs": [],
   "source": [
    "# Try to visualize which stations are the hot spots for delays\n",
    "# Disclaimer: map is not drawn to scale\n",
    "station_coords = pd.read_csv('station_coords.csv')\n",
    "\n",
    "station_coords = station_coords.merge(\n",
    "    summ_station, \n",
    "    left_on = 'station', \n",
    "    right_on = 'station_fixed', \n",
    "    how = 'left'\n",
    ")\n",
    "\n",
    "station_coords.loc[:, 'text'] = list(map(lambda x, y, z, k: f\"{x}<br># delays: {round(k)}<br>Mean delay: {round(y, 2)}<br>Stdev delay: {round(z, 2)}\",\n",
    "                                         station_coords.station, \n",
    "                                         station_coords.delay_mean, \n",
    "                                         station_coords.delay_sd,\n",
    "                                         station_coords.n))"
   ]
  },
  {
   "cell_type": "code",
   "execution_count": null,
   "metadata": {},
   "outputs": [],
   "source": [
    "import plotly.express as px\n",
    "import plotly.graph_objects as go\n",
    "\n",
    "cmap = {'YU': 'yellow', 'BD': 'green', 'SRT': 'blue', 'SHP': 'magenta'}\n",
    "\n",
    "fig = go.Figure()\n",
    "\n",
    "fig.add_trace(go.Scatter(\n",
    "    x = station_coords[station_coords.line.isin(['BD', 'SRT'])]['xcoord'],\n",
    "    y = station_coords[station_coords.line.isin(['BD', 'SRT'])]['ycoord'],\n",
    "    mode = 'lines',\n",
    "    line = dict(color = 'lightslategrey'),\n",
    "    showlegend = False\n",
    "))\n",
    "\n",
    "fig.add_trace(go.Scatter(\n",
    "    x = station_coords[station_coords.line.isin(['YU'])]['xcoord'],\n",
    "    y = station_coords[station_coords.line.isin(['YU'])]['ycoord'],\n",
    "    mode = 'lines',\n",
    "    line = dict(color = 'lightslategrey'),\n",
    "    showlegend = False\n",
    "))\n",
    "\n",
    "fig.add_trace(go.Scatter(\n",
    "    x = station_coords[(station_coords.line.isin(['SHP'])) | (station_coords.station_fixed == 'SHEPPARD STATION')]['xcoord'],\n",
    "    y = station_coords[(station_coords.line.isin(['SHP'])) | (station_coords.station_fixed == 'SHEPPARD STATION')]['ycoord'],\n",
    "    mode = 'lines',\n",
    "    line = dict(color = 'lightslategrey'),\n",
    "    showlegend = False\n",
    "))\n",
    "\n",
    "for name, group in station_coords.groupby('line'):\n",
    "    fig.add_trace(go.Scatter(\n",
    "        x = group['xcoord'],\n",
    "        y = group['ycoord'],\n",
    "        mode = 'markers',\n",
    "        marker = dict(\n",
    "            size = group['delay_sum'] / 100, \n",
    "            color = cmap[name],\n",
    "            line = dict(width = 1, color = 'darkslategrey')\n",
    "        ),\n",
    "        text = station_coords['text'],\n",
    "        hoverinfo = 'text',\n",
    "        name = name\n",
    "    ))\n",
    "    \n",
    "fig.update_layout(\n",
    "    legend = go.layout.Legend(\n",
    "        itemsizing = 'constant'\n",
    "    ),\n",
    "    plot_bgcolor = 'white'\n",
    ")\n",
    "\n",
    "fig.update_xaxes(visible = False)\n",
    "fig.update_yaxes(visible = False)\n",
    "\n",
    "fig.show()"
   ]
  },
  {
   "cell_type": "code",
   "execution_count": null,
   "metadata": {
    "scrolled": false
   },
   "outputs": [],
   "source": [
    "import ipywidgets as widgets\n",
    "from ipywidgets import interact, interact_manual\n",
    "\n",
    "station_coords = pd.read_csv('station_coords.csv')\n",
    "\n",
    "@interact\n",
    "def plot_subway_delays(\n",
    "    Month = widgets.IntSlider(min = 1, max = 12, step = 1, value = 11),\n",
    "    Weekday = ['Sunday', 'Monday', 'Tuesday', 'Wednesday', 'Thursday', 'Friday', 'Saturday'],\n",
    "    Hour = widgets.IntSlider(min = 0, max = 23, step = 1, value = 7)):\n",
    "    \n",
    "    data_sub = df[(df.year > 2017) & (df.hour == Hour) & (df.month == Month) & (df.weekday == Weekday)]\n",
    "    summ_station = (data_sub.groupby(['station_fixed'])\n",
    "                            .apply(get_summ_n_mean_sd_sum)\n",
    "                            .reset_index(drop = False))\n",
    "    \n",
    "    data_plot = station_coords.merge(\n",
    "        summ_station, \n",
    "        left_on = 'station', \n",
    "        right_on = 'station_fixed', \n",
    "        how = 'left'\n",
    "    ).fillna(0)\n",
    "    \n",
    "    data_plot.loc[:, 'text'] = list(map(lambda x, y, z, k: f\"{x}<br># delays: {round(k)}<br>Mean delay: {round(y, 2)}<br>Stdev delay: {round(z, 2)}\",\n",
    "                                        data_plot.station, \n",
    "                                        data_plot.delay_mean, \n",
    "                                        data_plot.delay_sd,\n",
    "                                        data_plot.n))\n",
    "    \n",
    "    cmap = {'YU': 'yellow', 'BD': 'green', 'SRT': 'blue', 'SHP': 'magenta'}\n",
    "\n",
    "    fig = go.Figure()\n",
    "\n",
    "    fig.add_trace(go.Scatter(\n",
    "        x = data_plot[data_plot.line.isin(['BD', 'SRT'])]['xcoord'],\n",
    "        y = data_plot[data_plot.line.isin(['BD', 'SRT'])]['ycoord'],\n",
    "        mode = 'lines',\n",
    "        line = dict(color = 'lightslategrey'),\n",
    "        showlegend = False\n",
    "    ))\n",
    "\n",
    "    fig.add_trace(go.Scatter(\n",
    "        x = data_plot[data_plot.line.isin(['YU'])]['xcoord'],\n",
    "        y = data_plot[data_plot.line.isin(['YU'])]['ycoord'],\n",
    "        mode = 'lines',\n",
    "        line = dict(color = 'lightslategrey'),\n",
    "        showlegend = False\n",
    "    ))\n",
    "\n",
    "    fig.add_trace(go.Scatter(\n",
    "        x = data_plot[(data_plot.line.isin(['SHP'])) | (data_plot.station == 'SHEPPARD STATION')]['xcoord'],\n",
    "        y = data_plot[(data_plot.line.isin(['SHP'])) | (data_plot.station == 'SHEPPARD STATION')]['ycoord'],\n",
    "        mode = 'lines',\n",
    "        line = dict(color = 'lightslategrey'),\n",
    "        showlegend = False\n",
    "    ))\n",
    "\n",
    "    for name, group in data_plot.groupby('line'):\n",
    "        fig.add_trace(go.Scatter(\n",
    "            x = group['xcoord'],\n",
    "            y = group['ycoord'],\n",
    "            mode = 'markers',\n",
    "            marker = dict(\n",
    "                size = 2*group['delay_sum'] + 5, \n",
    "                color = cmap[name],\n",
    "                line = dict(width = 1, color = 'darkslategrey')\n",
    "            ),\n",
    "            text = group['text'],\n",
    "            hoverinfo = 'text',\n",
    "            name = name\n",
    "        ))\n",
    "\n",
    "    fig.update_layout(\n",
    "        legend = go.layout.Legend(\n",
    "            itemsizing = 'constant'\n",
    "        ),\n",
    "        plot_bgcolor = 'white'\n",
    "    )\n",
    "\n",
    "    fig.update_xaxes(visible = False)\n",
    "    fig.update_yaxes(visible = False)\n",
    "\n",
    "    fig.show()"
   ]
  },
  {
   "cell_type": "code",
   "execution_count": null,
   "metadata": {},
   "outputs": [],
   "source": [
    "c_map = {'YU': 'yellow', 'BD': 'green', 'SRT': 'blue', 'SHP': 'magenta'}\n",
    "\n",
    "plt.figure(figsize = (13, 7))\n",
    "for name, group in station_coords.groupby('line'):\n",
    "    plt.scatter(group.xcoord, group.ycoord, c = c_map[name], s = group.delay_sum / 10)\n",
    "\n",
    "yu_legend = mlines.Line2D([], [], color = 'yellow', marker = 'o', linestyle = 'None',\n",
    "                          markersize = 10, label = 'Yonge-University')\n",
    "bd_legend = mlines.Line2D([], [], color = 'green', marker = 'o', linestyle = 'None',\n",
    "                          markersize = 10, label = 'Bloor-Danforth')\n",
    "srt_legend = mlines.Line2D([], [], color = 'blue', marker = 'o', linestyle = 'None',\n",
    "                           markersize = 10, label = 'Scarborough RT')\n",
    "shp_legend = mlines.Line2D([], [], color = 'magenta', marker = 'o', linestyle = 'None',\n",
    "                           markersize = 10, label = 'Sheppard')\n",
    "plt.legend(handles = [yu_legend, bd_legend, srt_legend, shp_legend], \n",
    "           bbox_to_anchor = (1, 0.8), \n",
    "           loc = \"upper left\")\n",
    "\n",
    "for _, row in station_coords.sort_values(by = 'delay_sum', ascending = False)[:10].iterrows():\n",
    "    plt.annotate(re.sub(' STATION', '', row['station_fixed']), \n",
    "                 xy = (row['xcoord'], row['ycoord']), \n",
    "                 xytext = (row['xcoord'] + 1, row['ycoord'] - 1), \n",
    "                 arrowprops = dict(arrowstyle = \"->\", connectionstyle = \"arc3\"))\n",
    "\n",
    "plt.title('Total Delays by Station')\n",
    "# All final stops have long delays, perhaps because there is more rider traffic at those stops"
   ]
  },
  {
   "cell_type": "code",
   "execution_count": null,
   "metadata": {},
   "outputs": [],
   "source": [
    "c_map = {'YU': 'yellow', 'BD': 'green', 'SRT': 'blue', 'SHP': 'magenta'}\n",
    "\n",
    "plt.figure(figsize = (13, 7))\n",
    "for name, group in station_coords.groupby('line'):\n",
    "    plt.scatter(group.xcoord, group.ycoord, c = c_map[name], s = group.delay_mean * 30)\n",
    "    \n",
    "plt.legend(handles = [yu_legend, bd_legend, srt_legend, shp_legend], \n",
    "           bbox_to_anchor = (1, 0.8), \n",
    "           loc = \"upper left\")\n",
    "\n",
    "for _, row in station_coords.sort_values(by = 'delay_mean', ascending = False)[:10].iterrows():\n",
    "    plt.annotate(re.sub(' STATION', '', row['station_fixed']), \n",
    "                 xy = (row['xcoord'], row['ycoord']), \n",
    "                 xytext = (row['xcoord'] + 1, row['ycoord'] - 1), \n",
    "                 arrowprops = dict(arrowstyle = \"->\", connectionstyle = \"arc3\"))\n",
    "\n",
    "plt.title('Average Delays by Station')\n",
    "# The average duration of delay events is highest on the Scarborough RT line, which is coincidentally above ground\n",
    "# Maybe it is harder to maintain the tracks? Or more weather-related damage?"
   ]
  },
  {
   "cell_type": "markdown",
   "metadata": {},
   "source": [
    "## Delay Type by Line"
   ]
  },
  {
   "cell_type": "code",
   "execution_count": null,
   "metadata": {},
   "outputs": [],
   "source": [
    "summ_line_type = df[(df.year > 2017) & \n",
    "                    (df.line_cleaned.isin(['YU', 'BD', 'SRT', 'SHP']))].groupby(['line_cleaned', 'desc']).apply(get_summ_n_mean_sd_sum)"
   ]
  },
  {
   "cell_type": "code",
   "execution_count": null,
   "metadata": {},
   "outputs": [],
   "source": [
    "summ_line_type.groupby('line_cleaned').apply(lambda x: x.sort_values(by = 'delay_sum', ascending = False)[:10])\n",
    "# Top reasons for delay by line\n",
    "# Showing weather related delays play a large factor for SRT but not for the other lines that are predominantly underground\n",
    "# A lot of passenger-related problems on YU and BD lines"
   ]
  },
  {
   "cell_type": "code",
   "execution_count": null,
   "metadata": {},
   "outputs": [],
   "source": []
  },
  {
   "cell_type": "code",
   "execution_count": null,
   "metadata": {},
   "outputs": [],
   "source": []
  },
  {
   "cell_type": "code",
   "execution_count": null,
   "metadata": {},
   "outputs": [],
   "source": []
  },
  {
   "cell_type": "code",
   "execution_count": null,
   "metadata": {},
   "outputs": [],
   "source": []
  },
  {
   "cell_type": "code",
   "execution_count": null,
   "metadata": {},
   "outputs": [],
   "source": []
  },
  {
   "cell_type": "code",
   "execution_count": null,
   "metadata": {},
   "outputs": [],
   "source": []
  }
 ],
 "metadata": {
  "kernelspec": {
   "display_name": "Python 3",
   "language": "python",
   "name": "python3"
  },
  "language_info": {
   "codemirror_mode": {
    "name": "ipython",
    "version": 3
   },
   "file_extension": ".py",
   "mimetype": "text/x-python",
   "name": "python",
   "nbconvert_exporter": "python",
   "pygments_lexer": "ipython3",
   "version": "3.7.4"
  },
  "toc": {
   "base_numbering": 1,
   "nav_menu": {},
   "number_sections": true,
   "sideBar": true,
   "skip_h1_title": false,
   "title_cell": "Table of Contents",
   "title_sidebar": "Contents",
   "toc_cell": false,
   "toc_position": {
    "height": "calc(100% - 180px)",
    "left": "10px",
    "top": "150px",
    "width": "190.17px"
   },
   "toc_section_display": true,
   "toc_window_display": true
  }
 },
 "nbformat": 4,
 "nbformat_minor": 2
}
